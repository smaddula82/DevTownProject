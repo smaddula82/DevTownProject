{
 "cells": [
  {
   "cell_type": "markdown",
   "metadata": {
    "id": "h2w7voCv6PW6"
   },
   "source": [
    "# **Project in Python - Movie Website using Functions**\n",
    "###[Should be done on jupyter notebook locally download Anaconda and Jupyter Notebooks]\n",
    "So lets Assume you want to make a movies website, a very basic one with a lot of posters and their respective names on the main page and when you click on any one of them the trailer associated with that particular movie should start playing.\n",
    "\n",
    "Lets make a program that will do so."
   ]
  },
  {
   "cell_type": "markdown",
   "metadata": {
    "id": "Flgrxelt635e"
   },
   "source": [
    "## **If you were to make this program what steps will you take to write this program pls write in the live CHAT?** \n",
    "[ don't worry about the code, in plane english just identify the steps that you will take to make this work eg - step1 do this , step2 do that ]"
   ]
  },
  {
   "cell_type": "markdown",
   "metadata": {
    "id": "Pc-zsKlk69rp"
   },
   "source": [
    "# **One possible ANSWER**"
   ]
  },
  {
   "cell_type": "markdown",
   "metadata": {
    "id": "YbQO5q8A7Awb"
   },
   "source": [
    "- we will crete 2 functions one to show the trailer of the movie\n",
    "- and an other to show the poster and the name of the movie."
   ]
  },
  {
   "cell_type": "markdown",
   "metadata": {
    "id": "BG17ptnz7TUp"
   },
   "source": [
    "## **CODE:**"
   ]
  },
  {
   "cell_type": "markdown",
   "metadata": {
    "id": "wh8ifGma7WGc"
   },
   "source": [
    "Lets start with writing the code for this project. First lets declare the function and lets continue from there step by step."
   ]
  },
  {
   "cell_type": "code",
   "execution_count": 1,
   "metadata": {
    "id": "19EhYlDZ9ZEm"
   },
   "outputs": [],
   "source": [
    "import webbrowser\n",
    "def show_trailer(title, youtube_url):\n",
    "    webbrowser.open(youtube_url)\n",
    "    \n",
    "\n",
    "\n",
    "def show_info(title, storyline, release_date, rating, youtube_url, director, box_office):\n",
    "    print(title)\n",
    "    print(storyline)\n",
    "    print(release_date)\n",
    "    print(rating)\n",
    "    print(youtube_url)\n",
    "    print(director)\n",
    "    print(box_office)"
   ]
  },
  {
   "cell_type": "code",
   "execution_count": 9,
   "metadata": {},
   "outputs": [],
   "source": [
    "show_trailer(\"ADIPURUSH\",\"https://www.youtube.com/watch?v=e3ew7YUeeQc\")"
   ]
  },
  {
   "cell_type": "code",
   "execution_count": 10,
   "metadata": {},
   "outputs": [
    {
     "name": "stdout",
     "output_type": "stream",
     "text": [
      "ADIPURUSH\n",
      "Ramayana\n",
      "16-Jun-2023\n",
      "4\n",
      "https://www.youtube.com/watch?v=e3ew7YUeeQc\n",
      "OMRAUT\n",
      "Telugu\n"
     ]
    }
   ],
   "source": [
    "show_info(\"ADIPURUSH\",\"Ramayana\",\"16-Jun-2023\",\"4\",\"https://www.youtube.com/watch?v=e3ew7YUeeQc\",\"OMRAUT\",\"Telugu\")"
   ]
  },
  {
   "cell_type": "code",
   "execution_count": null,
   "metadata": {},
   "outputs": [],
   "source": []
  }
 ],
 "metadata": {
  "colab": {
   "name": "AFTER_Project_2_Problem_with_functions.ipynb",
   "provenance": []
  },
  "kernelspec": {
   "display_name": "Python 3 (ipykernel)",
   "language": "python",
   "name": "python3"
  },
  "language_info": {
   "codemirror_mode": {
    "name": "ipython",
    "version": 3
   },
   "file_extension": ".py",
   "mimetype": "text/x-python",
   "name": "python",
   "nbconvert_exporter": "python",
   "pygments_lexer": "ipython3",
   "version": "3.9.13"
  }
 },
 "nbformat": 4,
 "nbformat_minor": 1
}
